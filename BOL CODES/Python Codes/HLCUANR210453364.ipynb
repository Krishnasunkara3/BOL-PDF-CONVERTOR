{
 "cells": [
  {
   "cell_type": "code",
   "execution_count": null,
   "id": "ddf77e5e",
   "metadata": {},
   "outputs": [],
   "source": [
    "#Defining Libraries\n",
    "import pandas as pd\n",
    "import camelot\n",
    "import re\n",
    "from pdfminer.high_level import extract_text  #for reading invoice number"
   ]
  },
  {
   "cell_type": "code",
   "execution_count": null,
   "id": "044add02",
   "metadata": {},
   "outputs": [],
   "source": [
    "#Addng the Pdf location Path\n",
    "table = camelot.read_pdf(\"C:/Users/UNITEDPROJECTS/Desktop/TIBIL/Python/BL # HLCUANR210453364.pdf\")\n",
    "text = extract_text(\"C:/Users/UNITEDPROJECTS/Desktop/TIBIL/Python/BL # HLCUANR210453364.pdf\") #for getting invoice number\n"
   ]
  },
  {
   "cell_type": "code",
   "execution_count": null,
   "id": "9d8c814d",
   "metadata": {},
   "outputs": [],
   "source": [
    "#Taking Reqiured data to read efficiently\n",
    "df = pd.DataFrame(table[0].df)\n",
    "df\n",
    "# print(table[0].df)\n",
    "table.export('foo.xlsx', f='excel', compress=True)\n",
    "# #getting invoice number\n",
    "# invoice_number = df[0][24]\n",
    "# invoice_number\n"
   ]
  },
  {
   "cell_type": "code",
   "execution_count": null,
   "id": "4355f8b5",
   "metadata": {},
   "outputs": [],
   "source": [
    "#Taking shippment address\n",
    "shiper_address = str(df[0][0]).replace(\"\\n\",\"\")\n",
    "print(shiper_address)"
   ]
  },
  {
   "cell_type": "code",
   "execution_count": null,
   "id": "312a9c2f",
   "metadata": {},
   "outputs": [],
   "source": [
    "\n",
    "#Taking consignee address\n",
    "consignee_address = df[0][5].replace(\"\\n\",\"\")\n",
    "print(consignee_address)\n"
   ]
  },
  {
   "cell_type": "code",
   "execution_count": null,
   "id": "d645ce30",
   "metadata": {},
   "outputs": [],
   "source": [
    "#Taking table data\n",
    "\n",
    "data = df[0][11].split(\"\\n\")[1].split()\n",
    "print(data)\n",
    "\n",
    "piece_of_rcp = data[2]\n",
    "gross_weight = data[4]\n",
    "measurement = data[5]\n",
    "\n",
    "print(piece_of_rcp, gross_weight,measurement)\n"
   ]
  },
  {
   "cell_type": "code",
   "execution_count": null,
   "id": "ddba8612",
   "metadata": {},
   "outputs": [],
   "source": [
    "#getting invoice number\n",
    "invoice_number =text.split()[-68]\n",
    "invoice_number"
   ]
  },
  {
   "cell_type": "code",
   "execution_count": null,
   "id": "ca98d752",
   "metadata": {},
   "outputs": [],
   "source": [
    "#creating the dataframe and pushing the data to the excel sheet\n",
    "# Note:-THIS INPUT CAN BE COMMENTED ONCE THE EXCEL SHEET CREATED\n",
    "dataframe = pd.DataFrame(columns=[\"Invoice No\", \"Shipper's Address\", \"Consignee's Address\", \"No of peices of RCP\", \"Gross weight\",\"Measurement\"])\n",
    "print(dataframe)\n",
    "\n",
    "\n",
    "dataframe.to_excel(\"HLCUANR210453364.xlsx\", index=False)\n",
    "\n"
   ]
  },
  {
   "cell_type": "code",
   "execution_count": null,
   "id": "c2b12ea4",
   "metadata": {},
   "outputs": [],
   "source": [
    "#Exporting the pdf data to the existing excel sheet\n",
    "result_data = list([invoice_number, shiper_address, consignee_address, piece_of_rcp, gross_weight, measurement])\n",
    "print(result_data)\n",
    "dataframe.loc[len(dataframe)] = result_data\n",
    "print(dataframe)\n",
    "dataframe.to_excel('HLCUANR210453364.xlsx', index=False)\n"
   ]
  }
 ],
 "metadata": {
  "kernelspec": {
   "display_name": "Python 3",
   "language": "python",
   "name": "python3"
  },
  "language_info": {
   "codemirror_mode": {
    "name": "ipython",
    "version": 3
   },
   "file_extension": ".py",
   "mimetype": "text/x-python",
   "name": "python",
   "nbconvert_exporter": "python",
   "pygments_lexer": "ipython3",
   "version": "3.8.8"
  }
 },
 "nbformat": 4,
 "nbformat_minor": 5
}
