{
 "cells": [
  {
   "cell_type": "code",
   "execution_count": 1,
   "id": "38ceb210",
   "metadata": {},
   "outputs": [],
   "source": [
    "#Defining Libraries\n",
    "import pandas as pd\n",
    "import camelot\n",
    "import re\n",
    "from pdfminer.high_level import extract_text  #for reading invoice number\n",
    "\n"
   ]
  },
  {
   "cell_type": "code",
   "execution_count": 49,
   "id": "ac80a1e9",
   "metadata": {},
   "outputs": [
    {
     "name": "stderr",
     "output_type": "stream",
     "text": [
      "PdfReadWarning: Multiple definitions in dictionary at byte 0x1437d for key /Length [generic.py:587]\n",
      "PdfReadWarning: Multiple definitions in dictionary at byte 0x17bcc for key /Length [generic.py:587]\n"
     ]
    }
   ],
   "source": [
    "#Addng the Pdf location Path\n",
    "table = camelot.read_pdf(\"C:/Users/UNITEDPROJECTS/Desktop/TIBIL/Python/BL # 7330-0539-011.013.pdf\")\n",
    "text = extract_text(\"C:/Users/UNITEDPROJECTS/Desktop/TIBIL/Python/BL # 7330-0539-011.013.pdf\") "
   ]
  },
  {
   "cell_type": "code",
   "execution_count": 50,
   "id": "bcdb04b9",
   "metadata": {},
   "outputs": [
    {
     "data": {
      "text/html": [
       "<div>\n",
       "<style scoped>\n",
       "    .dataframe tbody tr th:only-of-type {\n",
       "        vertical-align: middle;\n",
       "    }\n",
       "\n",
       "    .dataframe tbody tr th {\n",
       "        vertical-align: top;\n",
       "    }\n",
       "\n",
       "    .dataframe thead th {\n",
       "        text-align: right;\n",
       "    }\n",
       "</style>\n",
       "<table border=\"1\" class=\"dataframe\">\n",
       "  <thead>\n",
       "    <tr style=\"text-align: right;\">\n",
       "      <th></th>\n",
       "      <th>0</th>\n",
       "      <th>1</th>\n",
       "      <th>2</th>\n",
       "    </tr>\n",
       "  </thead>\n",
       "  <tbody>\n",
       "    <tr>\n",
       "      <th>0</th>\n",
       "      <td>Shipper\\nCATERPILLAR INDUSTRIAS MEXICO\\nS DE R...</td>\n",
       "      <td>Sea Waybill (Non-Negotiable)\\nfor Multimodal T...</td>\n",
       "      <td></td>\n",
       "    </tr>\n",
       "    <tr>\n",
       "      <th>1</th>\n",
       "      <td>Consignee\\nCATERPILLAR INDIA PRIVATE LIMITED\\n...</td>\n",
       "      <td>Forwarding Agent\\nKUEHNE + NAGEL S.A. DE C.V.\\...</td>\n",
       "      <td></td>\n",
       "    </tr>\n",
       "    <tr>\n",
       "      <th>2</th>\n",
       "      <td>Notify Party (No liability shall attach to the...</td>\n",
       "      <td>Delivery Agent\\nKUEHNE + NAGEL PVT LTD\\n10 FL,...</td>\n",
       "      <td></td>\n",
       "    </tr>\n",
       "    <tr>\n",
       "      <th>3</th>\n",
       "      <td>Place of Receipt (Multimodal Transport only)\\n...</td>\n",
       "      <td>Port of Loading\\nSea Waybill-No.\\nMANZANILLO, COL</td>\n",
       "      <td></td>\n",
       "    </tr>\n",
       "    <tr>\n",
       "      <th>4</th>\n",
       "      <td>Vessel\\nVoyage No.\\nMSC RUBY\\nFA048R</td>\n",
       "      <td>Port of Transshipment\\n7330-0539-011.013\\nSING...</td>\n",
       "      <td></td>\n",
       "    </tr>\n",
       "    <tr>\n",
       "      <th>5</th>\n",
       "      <td>Port of Discharge\\nPlace of Delivery (Multimod...</td>\n",
       "      <td>Movement\\nFreight Payable at\\nCFS/CFS\\nDESTINA...</td>\n",
       "      <td></td>\n",
       "    </tr>\n",
       "    <tr>\n",
       "      <th>6</th>\n",
       "      <td></td>\n",
       "      <td>PARTICULARS FURNISHED BY SHIPPER - CARRIER NOT...</td>\n",
       "      <td></td>\n",
       "    </tr>\n",
       "    <tr>\n",
       "      <th>7</th>\n",
       "      <td>Marks and Numbers\\nNumber of Packages\\nLoaded ...</td>\n",
       "      <td>Description of Goods\\nGross Weight kgs\\nMeasur...</td>\n",
       "      <td></td>\n",
       "    </tr>\n",
       "    <tr>\n",
       "      <th>8</th>\n",
       "      <td>OCEANFREIGHT AND CHARGES\\nPrepaid\\nRates, Weig...</td>\n",
       "      <td>Collect</td>\n",
       "      <td>*** NO VALUE DECLARED ***\\nDeclared Cargo Valu...</td>\n",
       "    </tr>\n",
       "    <tr>\n",
       "      <th>9</th>\n",
       "      <td></td>\n",
       "      <td></td>\n",
       "      <td>Received by the Carrier from the Shipper, as f...</td>\n",
       "    </tr>\n",
       "    <tr>\n",
       "      <th>10</th>\n",
       "      <td></td>\n",
       "      <td></td>\n",
       "      <td></td>\n",
       "    </tr>\n",
       "    <tr>\n",
       "      <th>11</th>\n",
       "      <td>Place and date of issue:\\nMONTERREY, MX - 12/2...</td>\n",
       "      <td>For and on behalf of the Carrier\\nKUEHNE + NAG...</td>\n",
       "      <td></td>\n",
       "    </tr>\n",
       "  </tbody>\n",
       "</table>\n",
       "</div>"
      ],
      "text/plain": [
       "                                                    0  \\\n",
       "0   Shipper\\nCATERPILLAR INDUSTRIAS MEXICO\\nS DE R...   \n",
       "1   Consignee\\nCATERPILLAR INDIA PRIVATE LIMITED\\n...   \n",
       "2   Notify Party (No liability shall attach to the...   \n",
       "3   Place of Receipt (Multimodal Transport only)\\n...   \n",
       "4                Vessel\\nVoyage No.\\nMSC RUBY\\nFA048R   \n",
       "5   Port of Discharge\\nPlace of Delivery (Multimod...   \n",
       "6                                                       \n",
       "7   Marks and Numbers\\nNumber of Packages\\nLoaded ...   \n",
       "8   OCEANFREIGHT AND CHARGES\\nPrepaid\\nRates, Weig...   \n",
       "9                                                       \n",
       "10                                                      \n",
       "11  Place and date of issue:\\nMONTERREY, MX - 12/2...   \n",
       "\n",
       "                                                    1  \\\n",
       "0   Sea Waybill (Non-Negotiable)\\nfor Multimodal T...   \n",
       "1   Forwarding Agent\\nKUEHNE + NAGEL S.A. DE C.V.\\...   \n",
       "2   Delivery Agent\\nKUEHNE + NAGEL PVT LTD\\n10 FL,...   \n",
       "3   Port of Loading\\nSea Waybill-No.\\nMANZANILLO, COL   \n",
       "4   Port of Transshipment\\n7330-0539-011.013\\nSING...   \n",
       "5   Movement\\nFreight Payable at\\nCFS/CFS\\nDESTINA...   \n",
       "6   PARTICULARS FURNISHED BY SHIPPER - CARRIER NOT...   \n",
       "7   Description of Goods\\nGross Weight kgs\\nMeasur...   \n",
       "8                                             Collect   \n",
       "9                                                       \n",
       "10                                                      \n",
       "11  For and on behalf of the Carrier\\nKUEHNE + NAG...   \n",
       "\n",
       "                                                    2  \n",
       "0                                                      \n",
       "1                                                      \n",
       "2                                                      \n",
       "3                                                      \n",
       "4                                                      \n",
       "5                                                      \n",
       "6                                                      \n",
       "7                                                      \n",
       "8   *** NO VALUE DECLARED ***\\nDeclared Cargo Valu...  \n",
       "9   Received by the Carrier from the Shipper, as f...  \n",
       "10                                                     \n",
       "11                                                     "
      ]
     },
     "execution_count": 50,
     "metadata": {},
     "output_type": "execute_result"
    }
   ],
   "source": [
    "#Taking Reqiured data to read efficiently\n",
    "df = pd.DataFrame(table[0].df)\n",
    "df\n",
    "#table.export('foo.xlsx', f='excel', compress=True)"
   ]
  },
  {
   "cell_type": "code",
   "execution_count": 51,
   "id": "301d0ce1",
   "metadata": {},
   "outputs": [
    {
     "name": "stdout",
     "output_type": "stream",
     "text": [
      "Shipper\n",
      "CATERPILLAR INDUSTRIAS MEXICO\n",
      "S DE RL DE CV\n",
      "CARRETERA FEDERAL A VILLA DE GARCIA\n",
      "KM 4.5 SIN NUMERO CENTRO\n",
      "66350 SANTA CATARINA NLE MEXICO\n"
     ]
    }
   ],
   "source": [
    "#Taking shippment address\n",
    "shiper_address = str(df[0][0])\n",
    "#.replace(\"\\n\",\"\")\n",
    "print(shiper_address)\n"
   ]
  },
  {
   "cell_type": "code",
   "execution_count": 52,
   "id": "cc3721d0",
   "metadata": {},
   "outputs": [
    {
     "name": "stdout",
     "output_type": "stream",
     "text": [
      "Consignee\n",
      "CATERPILLAR INDIA PRIVATE LIMITED\n",
      "MACHINES DIVISIONISION\n",
      "P. O. MELNALLATHUR\n",
      "THIRUVALLUR, 602004, Tamil Nadu\n",
      "India\n"
     ]
    }
   ],
   "source": [
    "#Taking consignee address\n",
    "consignee_address = df[0][1]\n",
    "#.replace(\"\\n\",\"\")\n",
    "print(consignee_address)"
   ]
  },
  {
   "cell_type": "code",
   "execution_count": 53,
   "id": "9219953a",
   "metadata": {},
   "outputs": [
    {
     "name": "stdout",
     "output_type": "stream",
     "text": [
      "['CARGO', '6', 'PALLET(S)', 'STC', '25', 'PIECES', 'OF', '489.25', '1.963']\n",
      "6 489.25 1.963\n"
     ]
    }
   ],
   "source": [
    "#Taking table data\n",
    "\n",
    "data = df[1][7].split(\"\\n\")[3].split()\n",
    "print(data)\n",
    "\n",
    "piece_of_rcp = data[1]\n",
    "gross_weight = data[7]\n",
    "measurement = data[8]\n",
    "\n",
    "print(piece_of_rcp, gross_weight, measurement)\n"
   ]
  },
  {
   "cell_type": "code",
   "execution_count": 54,
   "id": "2400bfa7",
   "metadata": {},
   "outputs": [
    {
     "name": "stdout",
     "output_type": "stream",
     "text": [
      "['7330-0539-011.013']\n",
      "7330-0539-011.013\n"
     ]
    }
   ],
   "source": [
    "#getting invoice number\n",
    "data = df[1][4].split(\"\\n\")[1].split()\n",
    "print(data)\n",
    "\n",
    "invoice_number =data[0]\n",
    "print(invoice_number)"
   ]
  },
  {
   "cell_type": "code",
   "execution_count": 55,
   "id": "22fcefae",
   "metadata": {},
   "outputs": [
    {
     "name": "stdout",
     "output_type": "stream",
     "text": [
      "Empty DataFrame\n",
      "Columns: [Invoice No, Shipper's Address, Consignee's Address, No of peices of RCP, Gross weight, Measurement]\n",
      "Index: []\n",
      "['7330-0539-011.013', 'Shipper\\nCATERPILLAR INDUSTRIAS MEXICO\\nS DE RL DE CV\\nCARRETERA FEDERAL A VILLA DE GARCIA\\nKM 4.5 SIN NUMERO CENTRO\\n66350 SANTA CATARINA NLE MEXICO', 'Consignee\\nCATERPILLAR INDIA PRIVATE LIMITED\\nMACHINES DIVISIONISION\\nP. O. MELNALLATHUR\\nTHIRUVALLUR, 602004, Tamil Nadu\\nIndia', '6', '489.25', '1.963']\n",
      "          Invoice No                                  Shipper's Address  \\\n",
      "0  7330-0539-011.013  Shipper\\nCATERPILLAR INDUSTRIAS MEXICO\\nS DE R...   \n",
      "\n",
      "                                 Consignee's Address No of peices of RCP  \\\n",
      "0  Consignee\\nCATERPILLAR INDIA PRIVATE LIMITED\\n...                   6   \n",
      "\n",
      "  Gross weight Measurement  \n",
      "0       489.25       1.963  \n"
     ]
    }
   ],
   "source": [
    "#creating the dataframe and pushing the data to the excel sheet\n",
    "# Note:-THIS INPUT CAN BE COMMENTED ONCE THE EXCEL SHEET CREATED\n",
    "dataframe = pd.DataFrame(columns=[\"Invoice No\", \"Shipper's Address\", \"Consignee's Address\", \"No of peices of RCP\", \"Gross weight\",\"Measurement\"])\n",
    "print(dataframe)\n",
    "\n",
    "\n",
    "dataframe.to_excel(\"BL # 7330-0539-011.013.xlsx\", index=False)\n",
    "\n"
   ]
  },
  {
   "cell_type": "code",
   "execution_count": null,
   "id": "260a781e",
   "metadata": {},
   "outputs": [],
   "source": [
    "#Exporting the pdf data to the existing excel sheet\n",
    "result_data = list([invoice_number, shiper_address, consignee_address, piece_of_rcp, gross_weight, measurement])\n",
    "print(result_data)\n",
    "dataframe.loc[len(dataframe)] = result_data\n",
    "print(dataframe)\n",
    "dataframe.to_excel('BL # 7330-0539-011.013.xlsx', index=False)"
   ]
  }
 ],
 "metadata": {
  "kernelspec": {
   "display_name": "Python 3",
   "language": "python",
   "name": "python3"
  },
  "language_info": {
   "codemirror_mode": {
    "name": "ipython",
    "version": 3
   },
   "file_extension": ".py",
   "mimetype": "text/x-python",
   "name": "python",
   "nbconvert_exporter": "python",
   "pygments_lexer": "ipython3",
   "version": "3.8.8"
  }
 },
 "nbformat": 4,
 "nbformat_minor": 5
}
