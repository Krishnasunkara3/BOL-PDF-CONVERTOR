{
 "cells": [
  {
   "cell_type": "code",
   "execution_count": 7,
   "id": "de057fd5",
   "metadata": {},
   "outputs": [],
   "source": [
    "#Defining Libraries\n",
    "import re\n",
    "import camelot\n",
    "import pandas as pd\n",
    "from pdfminer.high_level import extract_text"
   ]
  },
  {
   "cell_type": "code",
   "execution_count": 9,
   "id": "902a68a8",
   "metadata": {},
   "outputs": [
    {
     "data": {
      "text/plain": [
       "'*WAYBILL DOC*Not to be attached to package - Hand to Courier2021-04-29 MYDHL+  /WPXShipper :Ametek ISCJorge Betancourt1701 E Industrial Blvd.78557 HIDALGO  TexasUnited States of AmericaContact:+19568434576Receiver :Caterpillar india private ltdNaman ChopraMachines divisionMelnallathur602004 TIRUVALLUR  Tamil NaduIndiaContact:Naman Chopra+919999233529Chopra_Naman@CAT.com.US-HRL-HRLIN-MAA-PBD.Product Details:[P] EXPRESS WORLDWIDE (48)Payer DetailsFreight A/C: 847602638Duty A/C: Receiver Will PayTaxes A/C: Receiver Will PayFeatures / Services (Service Code)Emergency Situation(CR)Duties Taxes Unpaid(DS)Shipment DetailsRef:Custom Val: 1,877.28 USDEEI: NOEEI 30.37(a)Cust Decl Shpt Wgt (UOM) / Dim Wgt (UOM):24.0 lbsPieces1Name (in Capital Letters)SignatureDate  (DD.MM.YYYY)WAYBILL 26 7202 6265Contents: INST &APPRTS, MEASURING/CHECKING PRESSU RELicense Plates of pieces in shipmentJD014600008722789071- page 1 of 1 -\\x0c'"
      ]
     },
     "execution_count": 9,
     "metadata": {},
     "output_type": "execute_result"
    }
   ],
   "source": [
    "#Adding the Pdf location Path\n",
    "table = camelot.read_pdf(\"C:/Users/hp/Desktop/Invoices/BL # 2672026265.pdf\")\n",
    "table\n",
    "text = extract_text(\"C:/Users/hp/Desktop/Invoices/BL # 2672026265.pdf\")\n",
    "text"
   ]
  },
  {
   "cell_type": "code",
   "execution_count": 15,
   "id": "4c93ba2c",
   "metadata": {},
   "outputs": [
    {
     "data": {
      "text/plain": [
       "['*WAYBILL DOC*Not to be attached to package - Hand to Courier2021-04-29 MYDHL+  ',\n",
       " 'WPXShipper :Ametek ISCJorge Betancourt1701 E Industrial Blvd.78557 HIDALGO  TexasUnited States of AmericaContact:+19568434576Receiver :Caterpillar india private ltdNaman ChopraMachines divisionMelnallathur602004 TIRUVALLUR  Tamil NaduIndiaContact:Naman Chopra+919999233529Chopra_Naman@CAT.com.US-HRL-HRLIN-MAA-PBD.Product Details:[P] EXPRESS WORLDWIDE (48)Payer DetailsFreight A',\n",
       " 'C: 847602638Duty A',\n",
       " 'C: Receiver Will PayTaxes A',\n",
       " 'C: Receiver Will PayFeatures ',\n",
       " ' Services (Service Code)Emergency Situation(CR)Duties Taxes Unpaid(DS)Shipment DetailsRef:Custom Val: 1,877.28 USDEEI: NOEEI 30.37(a)Cust Decl Shpt Wgt (UOM) ',\n",
       " ' Dim Wgt (UOM):24.0 lbsPieces1Name (in Capital Letters)SignatureDate  (DD.MM.YYYY)WAYBILL 26 7202 6265Contents: INST &APPRTS, MEASURING',\n",
       " 'CHECKING PRESSU RELicense Plates of pieces in shipmentJD014600008722789071- page 1 of 1 -\\x0c']"
      ]
     },
     "execution_count": 15,
     "metadata": {},
     "output_type": "execute_result"
    }
   ],
   "source": [
    "#Taking Reqiured data to read efficiently\n",
    "list1 =\"\".join(text).split('/')\n",
    "list1"
   ]
  },
  {
   "cell_type": "code",
   "execution_count": 51,
   "id": "8bfad125",
   "metadata": {},
   "outputs": [
    {
     "data": {
      "text/plain": [
       "'26 7202 6265'"
      ]
     },
     "execution_count": 51,
     "metadata": {},
     "output_type": "execute_result"
    }
   ],
   "source": [
    "#Invoice Number\n",
    "Invoice_Data=list1[-2]\n",
    "\n",
    "Invoice_Number= \"\".join(re.findall(\"\\d+\\s+\\d+\\s+\\d+\",Invoice_Data))\n",
    "Invoice_Number"
   ]
  },
  {
   "cell_type": "code",
   "execution_count": 37,
   "id": "bd9913b4",
   "metadata": {},
   "outputs": [
    {
     "data": {
      "text/plain": [
       "'WPXShipper :Ametek ISCJorge Betancourt1701 E Industrial Blvd.78557 HIDALGO  TexasUnited States of AmericaContact:+19568434576'"
      ]
     },
     "execution_count": 37,
     "metadata": {},
     "output_type": "execute_result"
    }
   ],
   "source": [
    "#shipper address\n",
    "Shipper_Data=list1[1]\n",
    "Shippment_Address=Shipper_Data.split('Receiver :')[0]\n",
    "Shippment_Address"
   ]
  },
  {
   "cell_type": "code",
   "execution_count": 40,
   "id": "d5068325",
   "metadata": {},
   "outputs": [
    {
     "data": {
      "text/plain": [
       "'Caterpillar india private ltdNaman ChopraMachines divisionMelnallathur602004 TIRUVALLUR  Tamil NaduIndia'"
      ]
     },
     "execution_count": 40,
     "metadata": {},
     "output_type": "execute_result"
    }
   ],
   "source": [
    "#Consignee_Address\n",
    "Consignee_Data=list1[1]\n",
    "Consignee_Address=Consignee_Data.split('Contact:')[1].split(':')[1]\n",
    "Consignee_Address"
   ]
  },
  {
   "cell_type": "code",
   "execution_count": 54,
   "id": "3c012f66",
   "metadata": {},
   "outputs": [
    {
     "data": {
      "text/plain": [
       "'1'"
      ]
     },
     "execution_count": 54,
     "metadata": {},
     "output_type": "execute_result"
    }
   ],
   "source": [
    "#Table_Details\n",
    "Table_Data=list1[-2]\n",
    "Dim_Weight = Table_Data.split(' ')[3].split(':')[1]\n",
    "Dim_Weight\n",
    "pieces=Table_Data.split(' ')[4]\n",
    "No_of_pieces=\"\".join(re.findall(\"\\d+\",pieces))\n",
    "No_of_pieces"
   ]
  },
  {
   "cell_type": "code",
   "execution_count": 55,
   "id": "776989cf",
   "metadata": {},
   "outputs": [
    {
     "name": "stdout",
     "output_type": "stream",
     "text": [
      "Empty DataFrame\n",
      "Columns: [Invoice No, Shipper's Address, Consignee's Address, Dim_Weight, No_of_pieces]\n",
      "Index: []\n"
     ]
    }
   ],
   "source": [
    "#creating the dataframe with headers\n",
    "dataframe = pd.DataFrame(columns=[\"Invoice No\", \"Shipper's Address\", \"Consignee's Address\", \"Dim_Weight\", \"No_of_pieces\"])\n",
    "print(dataframe)"
   ]
  },
  {
   "cell_type": "code",
   "execution_count": 56,
   "id": "894842ff",
   "metadata": {},
   "outputs": [],
   "source": [
    "#Exporting dataframe to excel sheet Note:-THIS INPUT CAN BE COMMENTED ONCE THE EXCEL SHEET CREATED\n",
    "dataframe.to_excel(\"2672026265.xlsx\", index=False)"
   ]
  },
  {
   "cell_type": "code",
   "execution_count": 57,
   "id": "c368c738",
   "metadata": {},
   "outputs": [
    {
     "name": "stdout",
     "output_type": "stream",
     "text": [
      "['26 7202 6265', 'WPXShipper :Ametek ISCJorge Betancourt1701 E Industrial Blvd.78557 HIDALGO  TexasUnited States of AmericaContact:+19568434576', 'Caterpillar india private ltdNaman ChopraMachines divisionMelnallathur602004 TIRUVALLUR  Tamil NaduIndia', '24.0', '1']\n",
      "     Invoice No                                  Shipper's Address  \\\n",
      "0  26 7202 6265  WPXShipper :Ametek ISCJorge Betancourt1701 E I...   \n",
      "\n",
      "                                 Consignee's Address Dim_Weight No_of_pieces  \n",
      "0  Caterpillar india private ltdNaman ChopraMachi...       24.0            1  \n"
     ]
    }
   ],
   "source": [
    "#Exporting the pdf data to the existing excel sheet\n",
    "result_data = list([Invoice_Number, Shippment_Address, Consignee_Address, Dim_Weight, No_of_pieces])\n",
    "print(result_data)\n",
    "dataframe.loc[len(dataframe)] = result_data\n",
    "print(dataframe)\n",
    "dataframe.to_excel('2672026265.xlsx', index=False)"
   ]
  },
  {
   "cell_type": "code",
   "execution_count": null,
   "id": "de1cc993",
   "metadata": {},
   "outputs": [],
   "source": []
  }
 ],
 "metadata": {
  "kernelspec": {
   "display_name": "Python 3",
   "language": "python",
   "name": "python3"
  },
  "language_info": {
   "codemirror_mode": {
    "name": "ipython",
    "version": 3
   },
   "file_extension": ".py",
   "mimetype": "text/x-python",
   "name": "python",
   "nbconvert_exporter": "python",
   "pygments_lexer": "ipython3",
   "version": "3.8.8"
  }
 },
 "nbformat": 4,
 "nbformat_minor": 5
}
